{
 "cells": [
  {
   "cell_type": "code",
   "id": "initial_id",
   "metadata": {
    "collapsed": true,
    "ExecuteTime": {
     "end_time": "2025-03-13T18:59:23.418735Z",
     "start_time": "2025-03-13T18:59:21.704071Z"
    }
   },
   "source": [
    "import torch\n",
    "torch.__version__"
   ],
   "outputs": [
    {
     "data": {
      "text/plain": [
       "'2.6.0'"
      ]
     },
     "execution_count": 1,
     "metadata": {},
     "output_type": "execute_result"
    }
   ],
   "execution_count": 1
  },
  {
   "metadata": {},
   "cell_type": "markdown",
   "source": [
    "## Tensors\n",
    "- fundamental building blocks of machine learning\n",
    "- multidimensional array"
   ],
   "id": "521a7bc42639f3ee"
  },
  {
   "metadata": {
    "ExecuteTime": {
     "end_time": "2025-03-13T18:59:23.486519Z",
     "start_time": "2025-03-13T18:59:23.475568Z"
    }
   },
   "cell_type": "code",
   "source": [
    "#Scalar\n",
    "scalar = torch.tensor(7)\n",
    "scalar"
   ],
   "id": "4a07b1cec2bc3ae0",
   "outputs": [
    {
     "data": {
      "text/plain": [
       "tensor(7)"
      ]
     },
     "execution_count": 2,
     "metadata": {},
     "output_type": "execute_result"
    }
   ],
   "execution_count": 2
  },
  {
   "metadata": {
    "ExecuteTime": {
     "end_time": "2025-03-13T18:59:23.742769Z",
     "start_time": "2025-03-13T18:59:23.737924Z"
    }
   },
   "cell_type": "code",
   "source": "scalar.ndim",
   "id": "6d3db94a642fd3e",
   "outputs": [
    {
     "data": {
      "text/plain": [
       "0"
      ]
     },
     "execution_count": 3,
     "metadata": {},
     "output_type": "execute_result"
    }
   ],
   "execution_count": 3
  },
  {
   "metadata": {
    "ExecuteTime": {
     "end_time": "2025-03-13T18:59:23.867810Z",
     "start_time": "2025-03-13T18:59:23.864507Z"
    }
   },
   "cell_type": "code",
   "source": [
    "#Vector\n",
    "vector = torch.tensor([7,7])\n",
    "print(vector, vector.ndim, vector.shape)"
   ],
   "id": "385ca85e47e17fb0",
   "outputs": [
    {
     "name": "stdout",
     "output_type": "stream",
     "text": [
      "tensor([7, 7]) 1 torch.Size([2])\n"
     ]
    }
   ],
   "execution_count": 4
  },
  {
   "metadata": {
    "ExecuteTime": {
     "end_time": "2025-03-13T18:59:23.972513Z",
     "start_time": "2025-03-13T18:59:23.969050Z"
    }
   },
   "cell_type": "code",
   "source": [
    "matrix = torch.tensor([[7,7],[8, 8]])\n",
    "print(matrix, matrix.ndim, matrix.shape)"
   ],
   "id": "d9f982e486aaacc0",
   "outputs": [
    {
     "name": "stdout",
     "output_type": "stream",
     "text": [
      "tensor([[7, 7],\n",
      "        [8, 8]]) 2 torch.Size([2, 2])\n"
     ]
    }
   ],
   "execution_count": 5
  },
  {
   "metadata": {
    "ExecuteTime": {
     "end_time": "2025-03-13T18:59:50.226168Z",
     "start_time": "2025-03-13T18:59:50.192212Z"
    }
   },
   "cell_type": "code",
   "source": [
    "random_tensor = torch.rand(size=(3, 4))\n",
    "random_tensor, random_tensor.dtype"
   ],
   "id": "86e3f0221cde2726",
   "outputs": [
    {
     "data": {
      "text/plain": [
       "(tensor([[1.7056e-01, 1.9612e-01, 6.3244e-01, 1.7250e-01],\n",
       "         [3.7622e-01, 9.1637e-01, 1.3717e-01, 3.3287e-02],\n",
       "         [3.3402e-04, 8.7128e-01, 2.4122e-01, 3.4028e-01]]),\n",
       " torch.float32)"
      ]
     },
     "execution_count": 6,
     "metadata": {},
     "output_type": "execute_result"
    }
   ],
   "execution_count": 6
  },
  {
   "metadata": {
    "ExecuteTime": {
     "end_time": "2025-03-13T19:00:29.677187Z",
     "start_time": "2025-03-13T19:00:29.662006Z"
    }
   },
   "cell_type": "code",
   "source": [
    "zeros = torch.zeros(size=(3, 4))\n",
    "zeros"
   ],
   "id": "9d0797fce1a99bcd",
   "outputs": [
    {
     "data": {
      "text/plain": [
       "tensor([[0., 0., 0., 0.],\n",
       "        [0., 0., 0., 0.],\n",
       "        [0., 0., 0., 0.]])"
      ]
     },
     "execution_count": 7,
     "metadata": {},
     "output_type": "execute_result"
    }
   ],
   "execution_count": 7
  },
  {
   "metadata": {
    "ExecuteTime": {
     "end_time": "2025-03-13T19:00:57.672866Z",
     "start_time": "2025-03-13T19:00:57.666950Z"
    }
   },
   "cell_type": "code",
   "source": "random_tensor",
   "id": "169a7b2f83a2e6b1",
   "outputs": [
    {
     "data": {
      "text/plain": [
       "tensor([[1.7056e-01, 1.9612e-01, 6.3244e-01, 1.7250e-01],\n",
       "        [3.7622e-01, 9.1637e-01, 1.3717e-01, 3.3287e-02],\n",
       "        [3.3402e-04, 8.7128e-01, 2.4122e-01, 3.4028e-01]])"
      ]
     },
     "execution_count": 8,
     "metadata": {},
     "output_type": "execute_result"
    }
   ],
   "execution_count": 8
  },
  {
   "metadata": {
    "ExecuteTime": {
     "end_time": "2025-03-13T19:01:35.519201Z",
     "start_time": "2025-03-13T19:01:35.513761Z"
    }
   },
   "cell_type": "code",
   "source": [
    "ones = torch.ones(size=(3, 4))\n",
    "ones"
   ],
   "id": "6f6383f85d44b087",
   "outputs": [
    {
     "data": {
      "text/plain": [
       "tensor([[1., 1., 1., 1.],\n",
       "        [1., 1., 1., 1.],\n",
       "        [1., 1., 1., 1.]])"
      ]
     },
     "execution_count": 11,
     "metadata": {},
     "output_type": "execute_result"
    }
   ],
   "execution_count": 11
  },
  {
   "metadata": {
    "ExecuteTime": {
     "end_time": "2025-03-13T19:02:28.848045Z",
     "start_time": "2025-03-13T19:02:28.842157Z"
    }
   },
   "cell_type": "code",
   "source": [
    "zero_to_ten = torch.arange(start=0, end=15, step=3)\n",
    "zero_to_ten"
   ],
   "id": "58e2ce508bbad188",
   "outputs": [
    {
     "data": {
      "text/plain": [
       "tensor([ 0,  3,  6,  9, 12])"
      ]
     },
     "execution_count": 13,
     "metadata": {},
     "output_type": "execute_result"
    }
   ],
   "execution_count": 13
  },
  {
   "metadata": {
    "ExecuteTime": {
     "end_time": "2025-03-13T19:02:50.530190Z",
     "start_time": "2025-03-13T19:02:50.525200Z"
    }
   },
   "cell_type": "code",
   "source": "torch.zeros_like(zero_to_ten)",
   "id": "bfdc1767223d250e",
   "outputs": [
    {
     "data": {
      "text/plain": [
       "tensor([0, 0, 0, 0, 0])"
      ]
     },
     "execution_count": 14,
     "metadata": {},
     "output_type": "execute_result"
    }
   ],
   "execution_count": 14
  },
  {
   "metadata": {
    "ExecuteTime": {
     "end_time": "2025-03-13T19:06:04.835708Z",
     "start_time": "2025-03-13T19:06:04.825287Z"
    }
   },
   "cell_type": "code",
   "source": [
    "# Default datatype for tensors is float32\n",
    "float_32_tensor = torch.tensor([3.0, 6.0, 9.0],\n",
    "                               dtype=None, # defaults to None, which is torch.float32 or whatever datatype is passed\n",
    "                               device=None, # defaults to None, which uses the default tensor type\n",
    "                               requires_grad=False) # if True, operations performed on the tensor are recorded\n",
    "\n",
    "float_32_tensor.shape, float_32_tensor.dtype, float_32_tensor.device"
   ],
   "id": "2c0f2f5ae9130787",
   "outputs": [
    {
     "data": {
      "text/plain": [
       "(torch.Size([3]), torch.float32, device(type='cpu'))"
      ]
     },
     "execution_count": 15,
     "metadata": {},
     "output_type": "execute_result"
    }
   ],
   "execution_count": 15
  },
  {
   "metadata": {
    "ExecuteTime": {
     "end_time": "2025-03-13T19:06:53.245311Z",
     "start_time": "2025-03-13T19:06:53.229028Z"
    }
   },
   "cell_type": "code",
   "source": [
    "float_16_tensor = torch.tensor([3.0, 6.0, 9.0], dtype=torch.float16)\n",
    "float_16_tensor"
   ],
   "id": "99366f4cafb2034c",
   "outputs": [
    {
     "data": {
      "text/plain": [
       "tensor([3., 6., 9.], dtype=torch.float16)"
      ]
     },
     "execution_count": 16,
     "metadata": {},
     "output_type": "execute_result"
    }
   ],
   "execution_count": 16
  },
  {
   "metadata": {
    "ExecuteTime": {
     "end_time": "2025-03-13T19:16:11.653670Z",
     "start_time": "2025-03-13T19:16:11.647863Z"
    }
   },
   "cell_type": "code",
   "source": [
    "tensor = torch.tensor([1, 3 , 5, 7, 9])\n",
    "tensor.size()"
   ],
   "id": "ab79967385f61968",
   "outputs": [
    {
     "data": {
      "text/plain": [
       "torch.Size([5])"
      ]
     },
     "execution_count": 18,
     "metadata": {},
     "output_type": "execute_result"
    }
   ],
   "execution_count": 18
  },
  {
   "metadata": {
    "ExecuteTime": {
     "end_time": "2025-03-13T19:16:17.160367Z",
     "start_time": "2025-03-13T19:16:17.154642Z"
    }
   },
   "cell_type": "code",
   "source": "tensor * tensor",
   "id": "2342f2158eb111d5",
   "outputs": [
    {
     "data": {
      "text/plain": [
       "tensor([ 1,  9, 25, 49, 81])"
      ]
     },
     "execution_count": 19,
     "metadata": {},
     "output_type": "execute_result"
    }
   ],
   "execution_count": 19
  },
  {
   "metadata": {
    "ExecuteTime": {
     "end_time": "2025-03-13T19:17:42.748302Z",
     "start_time": "2025-03-13T19:17:42.736601Z"
    }
   },
   "cell_type": "code",
   "source": [
    "tensor_A = torch.tensor([[1, 2],\n",
    "                         [3, 4],\n",
    "                         [5, 6]], dtype=torch.float32)\n",
    "\n",
    "tensor_B = torch.tensor([[7, 10],\n",
    "                         [8, 11],\n",
    "                         [9, 12]], dtype=torch.float32)\n",
    "\n",
    "tensor_A, tensor_B, tensor_B.T"
   ],
   "id": "ffdceba53d17c8fd",
   "outputs": [
    {
     "data": {
      "text/plain": [
       "(tensor([[1., 2.],\n",
       "         [3., 4.],\n",
       "         [5., 6.]]),\n",
       " tensor([[ 7., 10.],\n",
       "         [ 8., 11.],\n",
       "         [ 9., 12.]]),\n",
       " tensor([[ 7.,  8.,  9.],\n",
       "         [10., 11., 12.]]))"
      ]
     },
     "execution_count": 21,
     "metadata": {},
     "output_type": "execute_result"
    }
   ],
   "execution_count": 21
  },
  {
   "metadata": {
    "ExecuteTime": {
     "end_time": "2025-03-13T19:23:27.419545Z",
     "start_time": "2025-03-13T19:23:27.406246Z"
    }
   },
   "cell_type": "code",
   "source": "tensor_A.shape, tensor_B.shape, tensor_B.T.shape",
   "id": "4639602f3a4c8c93",
   "outputs": [
    {
     "data": {
      "text/plain": [
       "(torch.Size([3, 2]), torch.Size([3, 2]), torch.Size([2, 3]))"
      ]
     },
     "execution_count": 23,
     "metadata": {},
     "output_type": "execute_result"
    }
   ],
   "execution_count": 23
  },
  {
   "metadata": {
    "ExecuteTime": {
     "end_time": "2025-03-13T19:24:29.183814Z",
     "start_time": "2025-03-13T19:24:29.165438Z"
    }
   },
   "cell_type": "code",
   "source": "torch.matmul(tensor_A, tensor_B.T)",
   "id": "84590704e0029527",
   "outputs": [
    {
     "data": {
      "text/plain": [
       "tensor([[ 27.,  30.,  33.],\n",
       "        [ 61.,  68.,  75.],\n",
       "        [ 95., 106., 117.]])"
      ]
     },
     "execution_count": 26,
     "metadata": {},
     "output_type": "execute_result"
    }
   ],
   "execution_count": 26
  },
  {
   "metadata": {
    "ExecuteTime": {
     "end_time": "2025-03-13T19:27:54.309205Z",
     "start_time": "2025-03-13T19:27:54.277759Z"
    }
   },
   "cell_type": "code",
   "source": [
    "# Since the linear layer starts with a random weights matrix, let's make it reproducible (more on this later)\n",
    "torch.manual_seed(42)\n",
    "# This uses matrix multiplication\n",
    "linear = torch.nn.Linear(in_features=2, # in_features = matches inner dimension of input\n",
    "                         out_features=6) # out_features = describes outer value\n",
    "x = tensor_A\n",
    "output = linear(x)\n",
    "print(f\"Input shape: {x.shape}\\n\")\n",
    "print(f\"Output:\\n{output}\\n\\nOutput shape: {output.shape}\")"
   ],
   "id": "ac307062f0ced8bf",
   "outputs": [
    {
     "name": "stdout",
     "output_type": "stream",
     "text": [
      "Input shape: torch.Size([3, 2])\n",
      "\n",
      "Output:\n",
      "tensor([[2.2368, 1.2292, 0.4714, 0.3864, 0.1309, 0.9838],\n",
      "        [4.4919, 2.1970, 0.4469, 0.5285, 0.3401, 2.4777],\n",
      "        [6.7469, 3.1648, 0.4224, 0.6705, 0.5493, 3.9716]],\n",
      "       grad_fn=<AddmmBackward0>)\n",
      "\n",
      "Output shape: torch.Size([3, 6])\n"
     ]
    }
   ],
   "execution_count": 27
  },
  {
   "metadata": {
    "ExecuteTime": {
     "end_time": "2025-03-13T19:29:19.467093Z",
     "start_time": "2025-03-13T19:29:19.452867Z"
    }
   },
   "cell_type": "code",
   "source": [
    "x = torch.arange(0, 100, 10)\n",
    "x.min(), x.max(), x.sum(), x.type(torch.float32).mean()"
   ],
   "id": "7d2596270a05d199",
   "outputs": [
    {
     "data": {
      "text/plain": [
       "(tensor(0), tensor(90), tensor(450), tensor(45.))"
      ]
     },
     "execution_count": 28,
     "metadata": {},
     "output_type": "execute_result"
    }
   ],
   "execution_count": 28
  },
  {
   "metadata": {
    "ExecuteTime": {
     "end_time": "2025-03-13T19:29:50.967267Z",
     "start_time": "2025-03-13T19:29:50.951655Z"
    }
   },
   "cell_type": "code",
   "source": "x.argmax(), x.argmin()",
   "id": "b792734c1760dd3c",
   "outputs": [
    {
     "data": {
      "text/plain": [
       "(tensor(9), tensor(0))"
      ]
     },
     "execution_count": 29,
     "metadata": {},
     "output_type": "execute_result"
    }
   ],
   "execution_count": 29
  },
  {
   "metadata": {
    "ExecuteTime": {
     "end_time": "2025-03-13T19:37:19.208048Z",
     "start_time": "2025-03-13T19:37:19.200997Z"
    }
   },
   "cell_type": "code",
   "source": "x = torch.arange(1., 8)",
   "id": "107a0e44fd8680be",
   "outputs": [],
   "execution_count": 30
  },
  {
   "metadata": {
    "ExecuteTime": {
     "end_time": "2025-03-13T19:37:28.436356Z",
     "start_time": "2025-03-13T19:37:28.429299Z"
    }
   },
   "cell_type": "code",
   "source": [
    "# Change view (keeps same data as original but changes view)\n",
    "# See more: https://stackoverflow.com/a/54507446/7900723\n",
    "z = x.view(1, 7)\n",
    "z, z.shape"
   ],
   "id": "51256ccb936d0dda",
   "outputs": [
    {
     "data": {
      "text/plain": [
       "(tensor([[1., 2., 3., 4., 5., 6., 7.]]), torch.Size([1, 7]))"
      ]
     },
     "execution_count": 31,
     "metadata": {},
     "output_type": "execute_result"
    }
   ],
   "execution_count": 31
  },
  {
   "metadata": {
    "ExecuteTime": {
     "end_time": "2025-03-13T19:38:01.325039Z",
     "start_time": "2025-03-13T19:38:01.317685Z"
    }
   },
   "cell_type": "code",
   "source": [
    "z[:, 0] = 5\n",
    "z, x"
   ],
   "id": "2ae7abdd9361a55",
   "outputs": [
    {
     "data": {
      "text/plain": [
       "(tensor([[5., 2., 3., 4., 5., 6., 7.]]), tensor([5., 2., 3., 4., 5., 6., 7.]))"
      ]
     },
     "execution_count": 34,
     "metadata": {},
     "output_type": "execute_result"
    }
   ],
   "execution_count": 34
  },
  {
   "metadata": {
    "ExecuteTime": {
     "end_time": "2025-03-13T19:38:24.129976Z",
     "start_time": "2025-03-13T19:38:24.113193Z"
    }
   },
   "cell_type": "code",
   "source": [
    "x_stacked = torch.stack([x, x, x, x, x])\n",
    "x_stacked, x_stacked.shape"
   ],
   "id": "3f969659272125be",
   "outputs": [
    {
     "data": {
      "text/plain": [
       "(tensor([[5., 2., 3., 4., 5., 6., 7.],\n",
       "         [5., 2., 3., 4., 5., 6., 7.],\n",
       "         [5., 2., 3., 4., 5., 6., 7.],\n",
       "         [5., 2., 3., 4., 5., 6., 7.],\n",
       "         [5., 2., 3., 4., 5., 6., 7.]]),\n",
       " torch.Size([5, 7]))"
      ]
     },
     "execution_count": 35,
     "metadata": {},
     "output_type": "execute_result"
    }
   ],
   "execution_count": 35
  },
  {
   "metadata": {
    "ExecuteTime": {
     "end_time": "2025-03-13T19:39:00.864313Z",
     "start_time": "2025-03-13T19:39:00.851236Z"
    }
   },
   "cell_type": "code",
   "source": [
    "# Create tensor with specific shape\n",
    "x_original = torch.rand(size=(224, 224, 3))\n",
    "\n",
    "# Permute the original tensor to rearrange the axis order\n",
    "x_permuted = x_original.permute(2, 0, 1) # shifts axis 0->1, 1->2, 2->0\n",
    "\n",
    "print(f\"Previous shape: {x_original.shape}\")\n",
    "print(f\"New shape: {x_permuted.shape}\")"
   ],
   "id": "9e6e814fe3721fa7",
   "outputs": [
    {
     "name": "stdout",
     "output_type": "stream",
     "text": [
      "Previous shape: torch.Size([224, 224, 3])\n",
      "New shape: torch.Size([3, 224, 224])\n"
     ]
    }
   ],
   "execution_count": 36
  },
  {
   "metadata": {
    "ExecuteTime": {
     "end_time": "2025-03-13T19:39:22.462592Z",
     "start_time": "2025-03-13T19:39:22.456099Z"
    }
   },
   "cell_type": "code",
   "source": [
    "x = torch.arange(1, 10).reshape(1, 3, 3)\n",
    "x, x.shape"
   ],
   "id": "b0ad0482856eb8b5",
   "outputs": [
    {
     "data": {
      "text/plain": [
       "(tensor([[[1, 2, 3],\n",
       "          [4, 5, 6],\n",
       "          [7, 8, 9]]]),\n",
       " torch.Size([1, 3, 3]))"
      ]
     },
     "execution_count": 37,
     "metadata": {},
     "output_type": "execute_result"
    }
   ],
   "execution_count": 37
  },
  {
   "metadata": {
    "ExecuteTime": {
     "end_time": "2025-03-13T19:41:56.345497Z",
     "start_time": "2025-03-13T19:41:56.331983Z"
    }
   },
   "cell_type": "code",
   "source": "print(x[:, 0], x[:, :, 1])",
   "id": "4a88e7519067b0f8",
   "outputs": [
    {
     "name": "stdout",
     "output_type": "stream",
     "text": [
      "tensor([[1, 2, 3]]) tensor([[2, 5, 8]])\n"
     ]
    }
   ],
   "execution_count": 38
  },
  {
   "metadata": {
    "ExecuteTime": {
     "end_time": "2025-03-13T19:42:19.717342Z",
     "start_time": "2025-03-13T19:42:19.714101Z"
    }
   },
   "cell_type": "code",
   "source": "import numpy as np",
   "id": "6c1b32575fe1956e",
   "outputs": [],
   "execution_count": 39
  },
  {
   "metadata": {
    "ExecuteTime": {
     "end_time": "2025-03-13T19:43:06.791061Z",
     "start_time": "2025-03-13T19:43:06.780298Z"
    }
   },
   "cell_type": "code",
   "source": [
    "array = np.arange(1.0, 8.0)\n",
    "tensor = torch.from_numpy(array).type(torch.float32)\n",
    "array, tensor"
   ],
   "id": "d30a9608a38282ba",
   "outputs": [
    {
     "data": {
      "text/plain": [
       "(array([1., 2., 3., 4., 5., 6., 7.]), tensor([1., 2., 3., 4., 5., 6., 7.]))"
      ]
     },
     "execution_count": 42,
     "metadata": {},
     "output_type": "execute_result"
    }
   ],
   "execution_count": 42
  },
  {
   "metadata": {
    "ExecuteTime": {
     "end_time": "2025-03-13T19:44:26.777145Z",
     "start_time": "2025-03-13T19:44:26.751990Z"
    }
   },
   "cell_type": "code",
   "source": [
    "random_tensor_A = torch.rand(size=(3, 4))\n",
    "random_tensor_B = torch.rand(size=(3, 4))\n",
    "\n",
    "random_tensor_A == random_tensor_B"
   ],
   "id": "e7a39294d33cbed9",
   "outputs": [
    {
     "data": {
      "text/plain": [
       "tensor([[False, False, False, False],\n",
       "        [False, False, False, False],\n",
       "        [False, False, False, False]])"
      ]
     },
     "execution_count": 43,
     "metadata": {},
     "output_type": "execute_result"
    }
   ],
   "execution_count": 43
  },
  {
   "metadata": {
    "ExecuteTime": {
     "end_time": "2025-03-13T19:45:31.259445Z",
     "start_time": "2025-03-13T19:45:31.239845Z"
    }
   },
   "cell_type": "code",
   "source": [
    "# # Set the random seed\n",
    "RANDOM_SEED=42 # try changing this to different values and see what happens to the numbers below\n",
    "torch.manual_seed(seed=RANDOM_SEED)\n",
    "random_tensor_C = torch.rand(3, 4)\n",
    "\n",
    "# Have to reset the seed every time a new rand() is called\n",
    "# Without this, tensor_D would be different to tensor_C\n",
    "torch.random.manual_seed(seed=RANDOM_SEED) # try commenting this line out and seeing what happens\n",
    "random_tensor_D = torch.rand(3, 4)\n",
    "\n",
    "print(f\"Tensor C:\\n{random_tensor_C}\\n\")\n",
    "print(f\"Tensor D:\\n{random_tensor_D}\\n\")\n",
    "print(f\"Does Tensor C equal Tensor D? (anywhere)\")\n",
    "random_tensor_C == random_tensor_D"
   ],
   "id": "28141dee7033508b",
   "outputs": [
    {
     "name": "stdout",
     "output_type": "stream",
     "text": [
      "Tensor C:\n",
      "tensor([[0.8823, 0.9150, 0.3829, 0.9593],\n",
      "        [0.3904, 0.6009, 0.2566, 0.7936],\n",
      "        [0.9408, 0.1332, 0.9346, 0.5936]])\n",
      "\n",
      "Tensor D:\n",
      "tensor([[0.8823, 0.9150, 0.3829, 0.9593],\n",
      "        [0.3904, 0.6009, 0.2566, 0.7936],\n",
      "        [0.9408, 0.1332, 0.9346, 0.5936]])\n",
      "\n",
      "Does Tensor C equal Tensor D? (anywhere)\n"
     ]
    },
    {
     "data": {
      "text/plain": [
       "tensor([[True, True, True, True],\n",
       "        [True, True, True, True],\n",
       "        [True, True, True, True]])"
      ]
     },
     "execution_count": 44,
     "metadata": {},
     "output_type": "execute_result"
    }
   ],
   "execution_count": 44
  },
  {
   "metadata": {
    "ExecuteTime": {
     "end_time": "2025-03-13T19:47:57.551734Z",
     "start_time": "2025-03-13T19:47:57.539351Z"
    }
   },
   "cell_type": "code",
   "source": "torch.cuda.is_available()",
   "id": "b9dbbf59c7704a45",
   "outputs": [
    {
     "data": {
      "text/plain": [
       "False"
      ]
     },
     "execution_count": 46,
     "metadata": {},
     "output_type": "execute_result"
    }
   ],
   "execution_count": 46
  },
  {
   "metadata": {
    "ExecuteTime": {
     "end_time": "2025-03-13T19:48:12.739852Z",
     "start_time": "2025-03-13T19:48:12.735851Z"
    }
   },
   "cell_type": "code",
   "source": [
    "# Set device type\n",
    "device = \"cuda\" if torch.cuda.is_available() else \"cpu\"\n",
    "device"
   ],
   "id": "1b6005fadccbb6c7",
   "outputs": [
    {
     "data": {
      "text/plain": [
       "'cpu'"
      ]
     },
     "execution_count": 47,
     "metadata": {},
     "output_type": "execute_result"
    }
   ],
   "execution_count": 47
  },
  {
   "metadata": {
    "ExecuteTime": {
     "end_time": "2025-03-13T19:49:01.281861Z",
     "start_time": "2025-03-13T19:49:01.241480Z"
    }
   },
   "cell_type": "code",
   "source": "torch.backends.mps.is_available() # Note this will print false if you're not running on a Mac",
   "id": "cfaf4695999a7c68",
   "outputs": [
    {
     "data": {
      "text/plain": [
       "True"
      ]
     },
     "execution_count": 48,
     "metadata": {},
     "output_type": "execute_result"
    }
   ],
   "execution_count": 48
  },
  {
   "metadata": {
    "ExecuteTime": {
     "end_time": "2025-03-13T19:49:09.222763Z",
     "start_time": "2025-03-13T19:49:09.219023Z"
    }
   },
   "cell_type": "code",
   "source": [
    "# Set device type\n",
    "device = \"mps\" if torch.backends.mps.is_available() else \"cpu\"\n",
    "device"
   ],
   "id": "8ee221771abb0f3c",
   "outputs": [
    {
     "data": {
      "text/plain": [
       "'mps'"
      ]
     },
     "execution_count": 49,
     "metadata": {},
     "output_type": "execute_result"
    }
   ],
   "execution_count": 49
  },
  {
   "metadata": {
    "ExecuteTime": {
     "end_time": "2025-03-13T19:49:20.048967Z",
     "start_time": "2025-03-13T19:49:20.045528Z"
    }
   },
   "cell_type": "code",
   "source": [
    "if torch.cuda.is_available():\n",
    "    device = \"cuda\" # Use NVIDIA GPU (if available)\n",
    "elif torch.backends.mps.is_available():\n",
    "    device = \"mps\" # Use Apple Silicon GPU (if available)\n",
    "else:\n",
    "    device = \"cpu\" # Default to CPU if no GPU is available"
   ],
   "id": "eddd5c7d484d66a4",
   "outputs": [],
   "execution_count": 50
  },
  {
   "metadata": {
    "ExecuteTime": {
     "end_time": "2025-03-13T19:49:22.419739Z",
     "start_time": "2025-03-13T19:49:22.416348Z"
    }
   },
   "cell_type": "code",
   "source": "device",
   "id": "db065af084e4e8c1",
   "outputs": [
    {
     "data": {
      "text/plain": [
       "'mps'"
      ]
     },
     "execution_count": 51,
     "metadata": {},
     "output_type": "execute_result"
    }
   ],
   "execution_count": 51
  },
  {
   "metadata": {
    "ExecuteTime": {
     "end_time": "2025-03-13T19:49:47.600165Z",
     "start_time": "2025-03-13T19:49:47.521963Z"
    }
   },
   "cell_type": "code",
   "source": [
    "# Create tensor (default on CPU)\n",
    "tensor = torch.tensor([1, 2, 3])\n",
    "\n",
    "# Tensor not on GPU\n",
    "print(tensor, tensor.device)\n",
    "\n",
    "# Move tensor to GPU (if available)\n",
    "tensor_on_gpu = tensor.to(device)\n",
    "tensor_on_gpu"
   ],
   "id": "c74d46219101816f",
   "outputs": [
    {
     "name": "stdout",
     "output_type": "stream",
     "text": [
      "tensor([1, 2, 3]) cpu\n"
     ]
    },
    {
     "data": {
      "text/plain": [
       "tensor([1, 2, 3], device='mps:0')"
      ]
     },
     "execution_count": 52,
     "metadata": {},
     "output_type": "execute_result"
    }
   ],
   "execution_count": 52
  },
  {
   "metadata": {
    "ExecuteTime": {
     "end_time": "2025-03-13T19:50:11.583385Z",
     "start_time": "2025-03-13T19:50:11.575332Z"
    }
   },
   "cell_type": "code",
   "source": [
    "# Instead, copy the tensor back to cpu\n",
    "tensor_back_on_cpu = tensor_on_gpu.cpu().numpy()\n",
    "tensor_back_on_cpu"
   ],
   "id": "c6d1a0ab5159650d",
   "outputs": [
    {
     "data": {
      "text/plain": [
       "array([1, 2, 3])"
      ]
     },
     "execution_count": 53,
     "metadata": {},
     "output_type": "execute_result"
    }
   ],
   "execution_count": 53
  },
  {
   "metadata": {},
   "cell_type": "markdown",
   "source": [
    "## Exercise\n",
    "https://github.com/mrdbourke/pytorch-deep-learning/blob/main/extras/exercises/00_pytorch_fundamentals_exercises.ipynb"
   ],
   "id": "488c062da79d60"
  },
  {
   "metadata": {},
   "cell_type": "code",
   "outputs": [],
   "execution_count": null,
   "source": "",
   "id": "3a32c233fc7662b"
  }
 ],
 "metadata": {
  "kernelspec": {
   "display_name": "Python 3",
   "language": "python",
   "name": "python3"
  },
  "language_info": {
   "codemirror_mode": {
    "name": "ipython",
    "version": 2
   },
   "file_extension": ".py",
   "mimetype": "text/x-python",
   "name": "python",
   "nbconvert_exporter": "python",
   "pygments_lexer": "ipython2",
   "version": "2.7.6"
  }
 },
 "nbformat": 4,
 "nbformat_minor": 5
}
